{
 "cells": [
  {
   "cell_type": "code",
   "execution_count": 1,
   "metadata": {},
   "outputs": [],
   "source": [
    "# Ecological scenarios do not depend just on relative basic reproduction numbers of strains R0,1 and R0,2.\n",
    "# We compare the case of large variation in clearance rate between two strains\n",
    "# ν1 = −1 , ν2= 1 (a) with lower one ν1 = −0.25, ν2 = 0.25 (b).\n",
    "import numpy as np\n",
    "import matplotlib.pyplot  as  plt\n",
    "import matplotlib.cm as cm\n",
    "\n",
    "np.set_printoptions(linewidth = 130, precision = 13)\n",
    "%matplotlib inline\n",
    "from matplotlib import colors"
   ]
  },
  {
   "cell_type": "code",
   "execution_count": 3,
   "metadata": {},
   "outputs": [],
   "source": [
    "def fitness(del_b, del_nu): #gamma_ij = min{gamma_i, gamma_j}, k_{ij} = k\n",
    "    mu = 1/(k*(R0 - 1))\n",
    "    \n",
    "    #lambda^2_1 + lambda^1_2\n",
    "    lambd21 =  gamm/(2*(gamm + r))*(2*mu**2 + 3*mu + 2)/((mu + 1)**2)*del_nu + del_b\n",
    "    lambd12 = -gamm/(2*(gamm + r))*(2*mu**2 +   mu    )/((mu + 1)**2)*del_nu - del_b\n",
    "    \n",
    "    return lambd21, lambd12\n",
    "\n",
    "def outcome(L21, L12): #Compute the value E1, E2, B, C for each value (\\Delta \\nu, \\Delta b)\n",
    "    pos1 = L21 > 0\n",
    "    pos2 = L12 > 0\n",
    "    neg1 = L21 < 0\n",
    "    neg2 = L12 < 0\n",
    "\n",
    "    #matrix of scenarios\n",
    "    coex = (-10)*pos1*pos2\n",
    "    s1 = -2*pos1*neg2\n",
    "    s2 =  2*neg1*pos2\n",
    "    bista =   10*neg1*neg2\n",
    "    scen = coex + s1 + s2 + bista\n",
    "    return scen\n",
    "\n",
    "def matrix_b(v1, v2):\n",
    "    # compute matrix of delta b\n",
    "    delb_arr = np.zeros((t,t))\n",
    "\n",
    "    for i in range (0, t):\n",
    "        for j in range (0, t):\n",
    "            b1 = -beta/eps + X[i]*(m/eps + v1*gamm)\n",
    "            b2 = -beta/eps + Y[j]*(m/eps + v2*gamm)\n",
    "            delb_arr[i,j] = (b1 - b2)/beta\n",
    "    return delb_arr"
   ]
  },
  {
   "cell_type": "code",
   "execution_count": 4,
   "metadata": {},
   "outputs": [],
   "source": [
    "# neutral parameters\n",
    "k = 0.5\n",
    "gamm = 1\n",
    "r = 0.5\n",
    "m = 1.5\n",
    "beta = 6\n",
    "eps = 0.1\n",
    "R0 = beta/m\n",
    "#matrices X: R_01, Y: R_02\n",
    "X = np.linspace(4, 5, 1000)\n",
    "Y = np.linspace(5, 4, 1000)\n",
    "x, y = np.meshgrid(X, Y)\n",
    "t = len(X)\n",
    "\n",
    "# Compute ultimate outcome for each pair of (\\Delta\\nu, \\Delta b)\n",
    "### CASE 1: v1 = -1, v2 = 1\n",
    "v1 = -1\n",
    "v2 = 1\n",
    "del_nu = v2 - v1\n",
    "delb_arr = matrix_b(v1, v2)\n",
    "L21, L12  = fitness(delb_arr, del_nu)\n",
    "scen1 = outcome(L21, L12)\n",
    "\n",
    "### CASE 1: v1 = -0.25, v2 = 0.25\n",
    "v1 = -0.25\n",
    "v2 = 0.25\n",
    "del_nu = v2 - v1\n",
    "delb_arr = matrix_b(v1, v2)\n",
    "L21, L12  = fitness(delb_arr, del_nu)\n",
    "scen2 = outcome(L21, L12)"
   ]
  },
  {
   "cell_type": "code",
   "execution_count": 7,
   "metadata": {},
   "outputs": [
    {
     "data": {
      "text/plain": [
       "<matplotlib.legend.Legend at 0x26cc190e4a8>"
      ]
     },
     "execution_count": 7,
     "metadata": {},
     "output_type": "execute_result"
    },
    {
     "data": {
      "image/png": "[encoded data removed]",
      "text/plain": [
       "<Figure size 792x288 with 2 Axes>"
      ]
     },
     "metadata": {
      "needs_background": "light"
     },
     "output_type": "display_data"
    }
   ],
   "source": [
    "fig, (ax1, ax2) = plt.subplots(1, 2, figsize = (11,4))\n",
    "fig.subplots_adjust(wspace = 0.6)\n",
    "\n",
    "ax1.contourf(x, y, scen1, levels = [-10,-5, 0, 5,10])\n",
    "ax1.plot(X,X, 'k--', label = '$R^1_0 = R^2_0$')\n",
    "ax1.legend(loc='upper right')\n",
    "ax1.set_ylabel('$R^2_0$', fontsize = 18)\n",
    "ax1.set_xlabel('$R^1_0$', fontsize = 18)\n",
    "ax1.text(-0.1, 1.1, 'a', transform=ax1.transAxes, size=16, weight='bold')\n",
    "ax1.set_title('$\\\\Delta \\\\nu = 2$', fontsize = 18)\n",
    "\n",
    "ax2.contourf(x, y, scen2, levels = [-10,-5, 0, 5,10])\n",
    "ax2.plot(X, X, 'k--', label = '$R^1_0 = R^2_0$')\n",
    "ax2.legend(loc='upper right')\n",
    "ax2.set_ylabel('$R^2_0$', fontsize = 18)\n",
    "ax2.set_xlabel('$R^1_0$', fontsize = 18)\n",
    "ax2.text(-0.1, 1.1, 'b', transform=ax2.transAxes, size=16, weight='bold')\n",
    "ax2.set_title('$\\\\Delta \\\\nu = 0.5$', fontsize = 18)\n",
    "\n",
    "proxy = [plt.Rectangle((0,0),1,1, fc = pc.get_facecolor()[0]) for pc in ax1.collections]\n",
    "ax1.legend(proxy, ['coexistence', 'strain 1 wins', 'strain 2 wins', 'bistability'], loc = 'upper left')\n",
    "ax2.legend(proxy, ['coexistence', 'strain 1 wins', 'strain 2 wins', 'bistability'], loc = 'upper left')"
   ]
  }
 ],
 "metadata": {
  "kernelspec": {
   "display_name": "Python 3",
   "language": "python",
   "name": "python3"
  },
  "language_info": {
   "codemirror_mode": {
    "name": "ipython",
    "version": 3
   },
   "file_extension": ".py",
   "mimetype": "text/x-python",
   "name": "python",
   "nbconvert_exporter": "python",
   "pygments_lexer": "ipython3",
   "version": "3.7.1"
  }
 },
 "nbformat": 4,
 "nbformat_minor": 2
}
