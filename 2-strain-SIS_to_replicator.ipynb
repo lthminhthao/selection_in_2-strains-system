{
 "cells": [
  {
   "cell_type": "code",
   "execution_count": 1,
   "metadata": {},
   "outputs": [],
   "source": [
    "### IN THIS SIMULATION, WE MAKE A PROCESS, WITH:\n",
    "### INPUT: A TWO-STRAIN SIS QUASI-NEUTRAL SYSTEM\n",
    "### OUTPUT: SOLUTION FOR THE CORRESPONDING REPLICATOR SYSTEM\n",
    "### ESTIMATE OF THE ERROR WHEN USING OUR APPROXIMATION IN PAPER:\n",
    "### \"Disentangling How Multiple Traits Drive 2 Strain Frequencies in SIS Dynamics with Coinfection\"\n",
    "\n",
    "import numpy as np\n",
    "import pylab as p\n",
    "import scipy.integrate  as  ode\n",
    "import matplotlib.pyplot  as  plt\n",
    "import math\n",
    "import timeit\n",
    "\n",
    "np.set_printoptions(linewidth = 130, precision = 13)\n",
    "%matplotlib inline\n",
    "\n",
    "from scipy.optimize import fsolve\n",
    "from scipy import integrate"
   ]
  },
  {
   "cell_type": "code",
   "execution_count": 2,
   "metadata": {},
   "outputs": [],
   "source": [
    "def repli_para(**kwargs): #input: beta, gamma, k, trans, clear, co_clear, prob, co_interact, eps\n",
    "    # COMPUTE THE VARIATIONS IN PERTURBATION OF TRAITS\n",
    "    del_b     = (trans[0] - trans[1])/(beta*eps) # in transmission rates\n",
    "    del_nu    = (clear[1] - clear[0])/(gamm*eps) # in infection clearance rates\n",
    "    del_omega = (prob[0][1] - prob[1][0])/eps # in transmission capacity from a coinfected host\n",
    "    nu2d = (co_clear/gamm - 1)/eps # in coinfection clearance rates\n",
    "    alp = (co_interact - k)/eps #co-colonization interaction\n",
    "    \n",
    "    return del_b, del_nu, nu2d, del_omega, alp"
   ]
  },
  {
   "cell_type": "code",
   "execution_count": 3,
   "metadata": {},
   "outputs": [],
   "source": [
    "def neutral_parameter(**kwargs):\n",
    "    #input: beta, gamma, k, trans, clear, co_clear, prob, co_interact, eps, del_b, del_nu, u2d, del_omega, alp\n",
    "    #stable state values: S*, T*, I*, J* and determinant of matrix\n",
    "    S_star = m/beta\n",
    "    T_star = 1 - S_star\n",
    "    I_star = m*T_star/(m + beta*k*T_star)\n",
    "    J_star = T_star - I_star\n",
    "    detP   = 2*(T_star)**2 - I_star*J_star\n",
    "    \n",
    "    #coefficients for replicator equations: theta 1,2,3,4,5\n",
    "    teth1 = 2*beta*S_star*(T_star)**2/detP\n",
    "    teth2 = gamm*I_star*(I_star + T_star)/detP\n",
    "    teth3 = gamm*T_star*J_star/detP\n",
    "    teth4 = 2*m*T_star*J_star/detP\n",
    "    teth5 = beta*T_star*I_star*J_star/detP\n",
    "    return S_star, T_star, I_star, J_star, detP, teth1, teth2, teth3, teth4, teth5\n",
    "\n",
    "def initial(**kwargs): # compute the initial value for the replicator system\n",
    "    u0 = np.zeros(n)\n",
    "    Y0 = X0[0: n*n] # initial values for co-infected hosts\n",
    "    Y0 = Y0.reshape(n, n)\n",
    "    for i in range (0, n):\n",
    "        u0[i] = (1/detP)*(-J_star*X0[n*n + i] + 2*(T_star**2)*(X0[n*n + i] + np.dot(prob[i,:], Y0[i,:]) + np.dot(1- prob[:,i],Y0[:,i]) ))\n",
    "    u0 = u0/sum(u0)\n",
    "    return u0\n",
    "    \n",
    "def replicator(**kwargs): \n",
    "    #fitness matrix\n",
    "    lambd = np.zeros((2,2))\n",
    "    lambd[0][1]=  teth1*del_b + teth2*del_nu + teth3*(-nu2d[0][1]-nu2d[1][0]+2*nu2d[1][1]) + teth4*del_omega + teth5*((I_star/J_star)*(alp[1][0] - alp[0][1]) + alp[1][0] - alp[1][1])\n",
    "    lambd[1][0]= -teth1*del_b - teth2*del_nu + teth3*(-nu2d[1][0]-nu2d[0][1]+2*nu2d[0][0]) - teth4*del_omega + teth5*((I_star/J_star)*(alp[0][1] - alp[1][0]) + alp[0][1] - alp[0][0])\n",
    "    #input the replicator equations\n",
    "    def du_dt(u, t = 0):\n",
    "        return u*(np.dot(lambd,u) - np.dot(np.dot(lambd,u),u))\n",
    "    \n",
    "    # input the initial value for replicator equations\n",
    "    t = np.linspace(0, time, itt)\n",
    "    \n",
    "    #solve the replicator equations\n",
    "    u, infodict = integrate.odeint(du_dt, u0, t, full_output=True)\n",
    "    infodict['message']\n",
    "    #solution at time 100\n",
    "    sol_re = u.T\n",
    "    \n",
    "    return sol_re"
   ]
  },
  {
   "cell_type": "code",
   "execution_count": 4,
   "metadata": {},
   "outputs": [],
   "source": [
    "#matrix of Force infection =  beta_i * J_i for each strain\n",
    "def lambd_rate(X):\n",
    "    lambd = np.zeros(n)\n",
    "    Y = X[0: n*n]\n",
    "    Y = Y.reshape(n, n)\n",
    "    for i in range (0, n):\n",
    "            lambd[i] = trans[i]*(X[n*n + i] + np.dot(prob[i,:], Y[i,:]) + np.dot(1- prob[:,i], Y[:,i]))\n",
    "    return lambd\n",
    "\n",
    "# Solve the original quasi-neutral SIS system\n",
    "def solveSIS(**kwargs):\n",
    "    # The original quasi neutral SIS system\n",
    "    def SIS(X, t = 0):\n",
    "        deriv = np.zeros(n*n + n + 1)\n",
    "        F = lambd_rate(X) #force F: beta_i*(I_i + sum (p^i_{ij}I_{ij} + p^i_{ji}I_{ji}))\n",
    "        #separate X into 3 blocks: I_{ij}, I_{i} and S\n",
    "        Y = X[0: n*n]\n",
    "        I_ij = Y.reshape(n,n) #coinfected hosts: I_{ij}\n",
    "        I_i = X[n*n: n*n + n] #infected hosts: I_i\n",
    "        \n",
    "        # 1st part: equations for I_ij\n",
    "        Z = np.zeros((n,n))\n",
    "        for i in range (0, n):\n",
    "            for j in range (0, n):\n",
    "                Z[i][j] = co_interact[i][j]*I_i[i]*F[j] - (r + co_clear[i][j])*I_ij[i][j]        \n",
    "        Z_new = Z.reshape(n*n)\n",
    "        for i in range (0, n*n):\n",
    "            deriv[i] = Z_new[i]\n",
    "        \n",
    "        #2nd part: equations for I_i\n",
    "        temp = X[-1]*F - (r + clear)*I_i - I_i*(np.dot(co_interact, F))\n",
    "        for i in range (n*n, n*n + n):\n",
    "            deriv[i] = temp[i - n*n]\n",
    "        \n",
    "        #3rd part: equation for S\n",
    "        deriv[-1] = r*(1 - X[-1]) + np.sum(clear*I_i) + np.sum(co_clear* I_ij) - X[-1]*np.sum(F)\n",
    "        return deriv\n",
    "    \n",
    "    t = np.linspace(0, time/eps, itt/eps)\n",
    "    \n",
    "    X, infodict = integrate.odeint(SIS, X0, t, full_output=True)\n",
    "    infodict['message']\n",
    "    sol_or = X.T\n",
    "    \n",
    "    return sol_or"
   ]
  },
  {
   "cell_type": "code",
   "execution_count": 7,
   "metadata": {},
   "outputs": [
    {
     "name": "stderr",
     "output_type": "stream",
     "text": [
      "E:\\Anaconda\\lib\\site-packages\\ipykernel_launcher.py:39: DeprecationWarning: object of type <class 'float'> cannot be safely interpreted as an integer.\n"
     ]
    }
   ],
   "source": [
    "#All parameters\n",
    "beta = 2.5\n",
    "gamm = 1.2\n",
    "m = 1.5\n",
    "r = m - gamm\n",
    "k = 2\n",
    "eps = 0.01\n",
    "n=2\n",
    "\n",
    "#trans = beta*(1 + np.zeros(2)) #transmission rates: beta_i\n",
    "#clear = gamm*(1 + np.zeros(2)) #clearance rates: gamma_i\n",
    "#co_clear = gamm*(1 + np.zeros((2,2))) #coinfection clearance rates: gamma_{ij}\n",
    "#prob = 0.5*np.ones((2,2)) #transmission capacity from a coinfected host: p^s_{ij}\n",
    "\n",
    "trans = beta*(1 + eps*(0.5*(np.random.rand(n)) - 1))\n",
    "clear = gamm*(1 + eps*(0.5*(np.random.rand(n)) - 1))\n",
    "co_clear = gamm*(1 + eps*(0.5*(np.random.rand(n,n)) - 1)) \n",
    "\n",
    "omega = np.zeros((2,2))\n",
    "omega[0,1] = 0.5*(np.random.rand(1)) - 1\n",
    "omega[1,0] = 0.5*(np.random.rand(1)) - 1\n",
    "prob = 1/2 + eps*omega\n",
    "\n",
    "co_interact = k + eps*(0.5*(np.random.rand(n,n)) - 1) #co-colonization interaction k_{ij}\n",
    "\n",
    "del_b, del_nu, nu2d, del_omega, alp = repli_para()\n",
    "S_star, T_star, I_star, J_star, detP, teth1, teth2, teth3, teth4, teth5 = neutral_parameter()\n",
    "\n",
    "X0 = np.random.rand((n**2 + n + 1)) #initial value\n",
    "X0 = X0/np.sum(X0)\n",
    "\n",
    "time = 100\n",
    "itt = 100*25\n",
    "\n",
    "sol_or = solveSIS()\n",
    "u0 = initial()\n",
    "sol_re = replicator()"
   ]
  },
  {
   "cell_type": "code",
   "execution_count": 8,
   "metadata": {},
   "outputs": [
    {
     "name": "stderr",
     "output_type": "stream",
     "text": [
      "E:\\Anaconda\\lib\\site-packages\\ipykernel_launcher.py:9: DeprecationWarning: object of type <class 'float'> cannot be safely interpreted as an integer.\n",
      "  if __name__ == '__main__':\n"
     ]
    },
    {
     "data": {
      "text/plain": [
       "Text(0, 0.5, 'Population')"
      ]
     },
     "execution_count": 8,
     "metadata": {},
     "output_type": "execute_result"
    },
    {
     "data": {
      "image/png": "[encoded data removed]",
      "text/plain": [
       "<Figure size 360x360 with 1 Axes>"
      ]
     },
     "metadata": {
      "needs_background": "light"
     },
     "output_type": "display_data"
    }
   ],
   "source": [
    "I_i = sol_or[n*n: n*n + n] #extract I_i\n",
    "\n",
    "plt.figure(figsize = (5,5))\n",
    "\n",
    "tRE = np.linspace(0, time, itt)\n",
    "plt.plot(tRE/eps, I_star*sol_re[0,:],'b:', label = '$I^*z_1$')\n",
    "plt.plot(tRE/eps, I_star*sol_re[1,:],'r:', label = '$I^*z_1$')\n",
    "\n",
    "tOR = np.linspace(0, time/eps, itt/eps)\n",
    "plt.plot(tOR, I_i[0,:], 'b-', label = '$I_1$')\n",
    "plt.plot(tOR, I_i[1,:], 'r-', label = '$I_2$')\n",
    "\n",
    "plt.legend(loc='best')\n",
    "plt.xlabel(\"Time ($t$)\", fontsize = 16)\n",
    "plt.ylabel(\"Population\" ,fontsize = 16)"
   ]
  }
 ],
 "metadata": {
  "kernelspec": {
   "display_name": "Python 3",
   "language": "python",
   "name": "python3"
  },
  "language_info": {
   "codemirror_mode": {
    "name": "ipython",
    "version": 3
   },
   "file_extension": ".py",
   "mimetype": "text/x-python",
   "name": "python",
   "nbconvert_exporter": "python",
   "pygments_lexer": "ipython3",
   "version": "3.7.1"
  }
 },
 "nbformat": 4,
 "nbformat_minor": 2
}
